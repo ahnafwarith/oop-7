{
  "nbformat": 4,
  "nbformat_minor": 0,
  "metadata": {
    "colab": {
      "name": "OOP_7.ipynb",
      "provenance": [],
      "authorship_tag": "ABX9TyPyyu7BK2fkN1xeoOhJVCh9",
      "include_colab_link": true
    },
    "kernelspec": {
      "name": "python3",
      "display_name": "Python 3"
    },
    "language_info": {
      "name": "python"
    }
  },
  "cells": [
    {
      "cell_type": "markdown",
      "metadata": {
        "id": "view-in-github",
        "colab_type": "text"
      },
      "source": [
        "<a href=\"https://colab.research.google.com/github/ahnafwarith/oop-7/blob/main/OOP_7.ipynb\" target=\"_parent\"><img src=\"https://colab.research.google.com/assets/colab-badge.svg\" alt=\"Open In Colab\"/></a>"
      ]
    },
    {
      "cell_type": "markdown",
      "source": [
        "# Task 1"
      ],
      "metadata": {
        "id": "NTMeGgWgrgDw"
      }
    },
    {
      "cell_type": "code",
      "source": [
        "class Student:\n",
        "  def __init__(self, name='Just a student', dept='nothing'):\n",
        "    self.__name = name\n",
        "    self.__department = dept\n",
        "  def set_department(self, dept):\n",
        "    self.__department = dept\n",
        "  def get_name(self):\n",
        "    return self.__name\n",
        "  def set_name(self,name):\n",
        "    self.__name = name\n",
        "  def __str__(self):\n",
        "    return 'Name: '+self.__name+' Department: '+self.__department\n",
        "\n",
        "class BBA_Student(Student):\n",
        "  def __init__(self,name='default',dept='BBA'):\n",
        "    super().__init__(name,dept)\n",
        "\n",
        "#write your code here\n",
        "print(BBA_Student())\n",
        "print(BBA_Student('Humpty Dumpty'))\n",
        "print(BBA_Student('Little Bo Peep'))\n",
        "\n",
        "# Output:\n",
        "# Name: default Department: BBA\n",
        "# Name: Humpty Dumpty Department: BBA\n",
        "# Name: Little Bo Peep Department: BBA"
      ],
      "metadata": {
        "colab": {
          "base_uri": "https://localhost:8080/"
        },
        "id": "y4XGYGtKrfs6",
        "outputId": "ed70df3c-c9ff-4f8d-cbe1-83bde43b3513"
      },
      "execution_count": 4,
      "outputs": [
        {
          "output_type": "stream",
          "name": "stdout",
          "text": [
            "Name: default Department: BBA\n",
            "Name: Humpty Dumpty Department: BBA\n",
            "Name: Little Bo Peep Department: BBA\n"
          ]
        }
      ]
    },
    {
      "cell_type": "markdown",
      "source": [
        "# Task 2"
      ],
      "metadata": {
        "id": "QhZVK58prjP-"
      }
    },
    {
      "cell_type": "code",
      "source": [
        "class Vehicle:\n",
        "  def __init__(self):\n",
        "    self.x = 0\n",
        "    self.y = 0\n",
        "  def moveUp(self):\n",
        "    self.y+=1\n",
        "  def moveDown(self):\n",
        "    self.y-=1\n",
        "  def moveRight(self):\n",
        "    self.x+=1\n",
        "  def moveLeft(self):\n",
        "    self.x-=1\n",
        "  def __str__(self):\n",
        "    return '('+str(self.x)+' , '+str(self.y)+')'\n",
        "\n",
        "class Vehicle2010(Vehicle):\n",
        "  def __init__(self):\n",
        "    super().__init__()\n",
        "\n",
        "  def moveLowerLeft(self):\n",
        "    super().moveDown()\n",
        "    super().moveLeft()\n",
        "    \n",
        "  def equals(self,other):\n",
        "    if self.x == other.x and self.y == other.y: return True\n",
        "    else: return False\n",
        "\n",
        "#write your code here\n",
        "print('Part 1')\n",
        "print('------')\n",
        "car = Vehicle()\n",
        "print(car)\n",
        "car.moveUp()\n",
        "print(car)\n",
        "car.moveLeft()\n",
        "print(car)\n",
        "car.moveDown()\n",
        "print(car)\n",
        "car.moveRight()\n",
        "print(car)\n",
        "print('------')\n",
        "print('Part 2')\n",
        "print('------')\n",
        "car1 = Vehicle2010()\n",
        "print(car1)\n",
        "car1.moveLowerLeft()\n",
        "print(car1)\n",
        "car2 = Vehicle2010()\n",
        "car2.moveLeft()\n",
        "print(car1.equals(car2))\n",
        "car2.moveDown()\n",
        "print(car1.equals(car2))\n",
        "\n",
        "# OUTPUT:\n",
        "# Part 1\n",
        "# ------\n",
        "# (0 , 0)\n",
        "# (0 , 1)\n",
        "# (-1 , 1)\n",
        "# (-1 , 0)\n",
        "# (0 , 0)\n",
        "# ------\n",
        "# Part 2\n",
        "# ------\n",
        "# (0 , 0)\n",
        "# (-1 , -1)\n",
        "# False\n",
        "# True"
      ],
      "metadata": {
        "id": "K1vvjTcTltEr",
        "colab": {
          "base_uri": "https://localhost:8080/"
        },
        "outputId": "36d1ec2c-11c7-48b4-87a0-bd7285444c3e"
      },
      "execution_count": 17,
      "outputs": [
        {
          "output_type": "stream",
          "name": "stdout",
          "text": [
            "Part 1\n",
            "------\n",
            "(0 , 0)\n",
            "(0 , 1)\n",
            "(-1 , 1)\n",
            "(-1 , 0)\n",
            "(0 , 0)\n",
            "------\n",
            "Part 2\n",
            "------\n",
            "(0 , 0)\n",
            "(-1 , -1)\n",
            "False\n",
            "True\n"
          ]
        }
      ]
    },
    {
      "cell_type": "markdown",
      "source": [
        "# Task 3"
      ],
      "metadata": {
        "id": "zDIuE7J50SS5"
      }
    },
    {
      "cell_type": "code",
      "source": [
        "class Tournament:\n",
        "  def __init__(self,name='Default'):\n",
        "    self.__name = name\n",
        "  def set_name(self,name):\n",
        "    self.__name = name\n",
        "  def get_name(self):\n",
        "    return self.__name\n",
        "\n",
        "class Cricket_Tournament(Tournament):\n",
        "  def __init__(self,name=\"Default\",team=\"0\",typ=\"No type\"):\n",
        "    super().__init__(name)\n",
        "    self.team = team\n",
        "    self.typ = typ\n",
        "\n",
        "  def detail(self):\n",
        "    return f\"Cricket Tournament Name: {self.get_name()}\\nNumber of Teams: {self.team}\\nType: {self.typ}\"\n",
        "\n",
        "class Tennis_Tournament(Tournament):\n",
        "  def __init__(self,name,players):\n",
        "    super().__init__(name)\n",
        "    self.players = players\n",
        "\n",
        "  def detail(self):\n",
        "    return f\"Tennis Tournament Name: {self.get_name()}\\nNumber of Players: {self.players}\"\n",
        "\n",
        "#write your code here\n",
        "ct1 = Cricket_Tournament()\n",
        "print(ct1.detail())\n",
        "print(\"-----------------------\")\n",
        "ct2 = Cricket_Tournament(\"IPL\",10,\"t20\")\n",
        "print(ct2.detail())\n",
        "print(\"-----------------------\")\n",
        "tt = Tennis_Tournament(\"Roland Garros\",128)\n",
        "print(tt.detail())\n",
        "\n",
        "# OUTPUT:\n",
        "# Cricket Tournament Name: Default\n",
        "# Number of Teams: 0\n",
        "# Type: No type\n",
        "# -----------------------\n",
        "# Cricket Tournament Name: IPL\n",
        "# Number of Teams: 10\n",
        "# Type: t20\n",
        "# -----------------------\n",
        "# Tennis Tournament Name: Roland Garros\n",
        "# Number of Players: 128"
      ],
      "metadata": {
        "colab": {
          "base_uri": "https://localhost:8080/"
        },
        "id": "BOOVPL7gltoo",
        "outputId": "5ae9b445-c776-49c9-c043-28741570d556"
      },
      "execution_count": 29,
      "outputs": [
        {
          "output_type": "stream",
          "name": "stdout",
          "text": [
            "Cricket Tournament Name: Default\n",
            "Number of Teams: 0\n",
            "Type: No type\n",
            "-----------------------\n",
            "Cricket Tournament Name: IPL\n",
            "Number of Teams: 10\n",
            "Type: t20\n",
            "-----------------------\n",
            "Tennis Tournament Name: Roland Garros\n",
            "Number of Players: 128\n"
          ]
        }
      ]
    },
    {
      "cell_type": "markdown",
      "source": [
        "# Task 4"
      ],
      "metadata": {
        "id": "txTw1chafgKY"
      }
    },
    {
      "cell_type": "code",
      "source": [
        "class Product:\n",
        "  def __init__(self,id, title, price):\n",
        "    self.__id = id\n",
        "    self.__title = title\n",
        "    self.__price = price\n",
        "  def get_id_title_price(self):\n",
        "    return \"ID: \"+str(self.__id)+\" Title: \"+self.__title+ \" Price: \"+str(self.__price)\n",
        "\n",
        "#write your code here\n",
        "class Book(Product):\n",
        "  def __init__(self,id,title,price,isbn,publisher):\n",
        "    super().__init__(id,title,price)\n",
        "    self.isbn = isbn\n",
        "    self.publisher = publisher\n",
        "\n",
        "  def printDetail(self):\n",
        "    return f\"{self.get_id_title_price()}\\nISBN: {self.isbn} Publisher: {self.publisher}\"\n",
        "\n",
        "class CD(Product):\n",
        "  def __init__(self,id,title,price,band,duration,genre):\n",
        "    super().__init__(id,title,price)\n",
        "    self.band = band\n",
        "    self.duration = str(duration) + 'minutes'\n",
        "    self.genre = genre\n",
        "\n",
        "  def printDetail(self):\n",
        "    return f\"{self.get_id_title_price()}\\nBand: {self.band} Duration: {self.duration}\\nGenre: {self.genre}\"\n",
        "\n",
        "book = Book(1,\"The Alchemist\",500,\"97806\",\"HarperCollins\")\n",
        "print(book.printDetail())\n",
        "print(\"-----------------------\")\n",
        "cd = CD(2,\"Shotto\",300,\"Warfaze\",50,\"Hard Rock\")\n",
        "print(cd.printDetail())\n",
        "\n",
        "# OUTPUT:\n",
        "# ID: 1 Title: The Alchemist Price: 500\n",
        "# ISBN: 97806 Publisher: HarperCollins\n",
        "# -----------------------\n",
        "# ID: 2 Title: Shotto Price: 300\n",
        "# Band: Warfaze Duration: 50minutes\n",
        "# Genre: Hard Rock"
      ],
      "metadata": {
        "id": "k-BEAAGDlt4g",
        "colab": {
          "base_uri": "https://localhost:8080/"
        },
        "outputId": "a2e08975-19a2-4722-880f-30a43b3cb34b"
      },
      "execution_count": 41,
      "outputs": [
        {
          "output_type": "stream",
          "name": "stdout",
          "text": [
            "ID: 1 Title: The Alchemist Price: 500\n",
            "ISBN: 97806 Publisher: HarperCollins\n",
            "-----------------------\n",
            "ID: 2 Title: Shotto Price: 300\n",
            "Band: Warfaze Duration: 50minutes\n",
            "Genre: Hard Rock\n"
          ]
        }
      ]
    },
    {
      "cell_type": "markdown",
      "source": [
        "# Task 5"
      ],
      "metadata": {
        "id": "gKr0pZHVfsFp"
      }
    },
    {
      "cell_type": "code",
      "source": [
        "class Animal:\n",
        "  def __init__(self,sound):\n",
        "    self.__sound = sound\n",
        "  def makeSound(self):\n",
        "    return self.__sound\n",
        "\n",
        "class Printer:\n",
        "  def printSound(self, a):\n",
        "    print(a.makeSound())\n",
        "\n",
        "\n",
        "class Dog(Animal):\n",
        "  pass\n",
        "\n",
        "class Cat(Animal):\n",
        "  pass\n",
        "\n",
        "#write your code here\n",
        "d1 = Dog('bark')\n",
        "c1 = Cat('meow')\n",
        "a1 = Animal('Animal does not make sound')\n",
        "pr = Printer()\n",
        "pr.printSound(a1)\n",
        "pr.printSound(c1)\n",
        "pr.printSound(d1)\n",
        "\n",
        "# OUTPUT:\n",
        "# Animal does not make sound\n",
        "# meow\n",
        "# bark"
      ],
      "metadata": {
        "id": "lRH4W9mHlvLv",
        "colab": {
          "base_uri": "https://localhost:8080/"
        },
        "outputId": "4a71d06d-ebb2-4694-e635-0c372946a2a3"
      },
      "execution_count": 44,
      "outputs": [
        {
          "output_type": "stream",
          "name": "stdout",
          "text": [
            "Animal does not make sound\n",
            "meow\n",
            "bark\n"
          ]
        }
      ]
    },
    {
      "cell_type": "markdown",
      "source": [
        "# Task 6"
      ],
      "metadata": {
        "id": "LNG718fnfvQK"
      }
    },
    {
      "cell_type": "code",
      "source": [
        "class Shape:\n",
        "  def __init__(self, name='Default', height=0, base=0):\n",
        "    self.area = 0\n",
        "    self.name = name\n",
        "    self.height = height\n",
        "    self.base = base\n",
        "  def get_height_base(self):\n",
        "    return \"Height: \"+str(self.height)+\", Base: \"+str(self.base)\n",
        "\n",
        "class triangle(Shape):\n",
        "  def calcArea(self):\n",
        "    self.area = (self.base * self.height)/2\n",
        "\n",
        "  def printDetail(self):\n",
        "    return f\"{self.get_height_base()}\\nArea: {self.area}\"\n",
        "\n",
        "class trapezoid(Shape):\n",
        "  def __init__(self,name, h, b, t):\n",
        "    super().__init__(name,h,b)\n",
        "    self.sideA = t\n",
        "\n",
        "  def get_height_base(self):\n",
        "    return \"Height: \"+str(self.height)+\", Base: \"+str(self.base)+\", Side_A: \"+str(self.sideA)\n",
        "\n",
        "  def calcArea(self):\n",
        "    self.area = ((self.base + self.sideA)*self.height)/2  \n",
        "\n",
        "  def printDetail(self):\n",
        "    return f\"{self.get_height_base()}\\nArea: {self.area}\"\n",
        "\n",
        "#write your code here\n",
        "tri_default = triangle()\n",
        "tri_default.calcArea()\n",
        "print(tri_default.printDetail())\n",
        "print('--------------------------')\n",
        "tri = triangle('Triangle', 10, 5)\n",
        "tri.calcArea()\n",
        "print(tri.printDetail())\n",
        "print('---------------------------')\n",
        "trap = trapezoid('Trapezoid', 10, 6, 4)\n",
        "trap.calcArea()\n",
        "print(trap.printDetail())\n",
        "\n",
        "# OUTPUT:\n",
        "# Shape name: Default\n",
        "# Height: 0, Base: 0\n",
        "# Area: 0.0\n",
        "# ---------------------------\n",
        "# Shape name: Triangle\n",
        "# Height: 10, Base: 5\n",
        "# Area: 25.0\n",
        "# ---------------------------\n",
        "# Shape name: Trapezoid\n",
        "# Height: 10, Base: 6, Side_A: 4\n",
        "# Area: 50.0"
      ],
      "metadata": {
        "id": "LNOyzNgilvBp",
        "colab": {
          "base_uri": "https://localhost:8080/"
        },
        "outputId": "91ee9eeb-a33d-4a29-b5ae-56ddfda099f8"
      },
      "execution_count": 51,
      "outputs": [
        {
          "output_type": "stream",
          "name": "stdout",
          "text": [
            "Height: 0, Base: 0\n",
            "Area: 0.0\n",
            "--------------------------\n",
            "Height: 10, Base: 5\n",
            "Area: 25.0\n",
            "---------------------------\n",
            "Height: 10, Base: 6, Side_A: 4\n",
            "Area: 50.0\n"
          ]
        }
      ]
    },
    {
      "cell_type": "markdown",
      "source": [
        "# Task 7"
      ],
      "metadata": {
        "id": "-z8y5p1JfxUf"
      }
    },
    {
      "cell_type": "code",
      "source": [
        "class Football:\n",
        "  def __init__(self, team_name, name, role):\n",
        "    self.__team = team_name\n",
        "    self.__name = name\n",
        "    self.role = role\n",
        "    self.earning_per_match = 0\n",
        "  def get_name_team(self):\n",
        "    return 'Name: '+self.__name+', Team Name: ' +self.__team\n",
        "\n",
        "class Player(Football):\n",
        "  def __init__(self,team_name, name, role,matches,goals):\n",
        "    super().__init__(team_name, name, role)\n",
        "    self.goals = goals\n",
        "    self.matches = matches\n",
        "    self.earning_per_match += (goals*1000) + (matches*10)\n",
        "    self.ratio = 0\n",
        "\n",
        "  def calculate_ratio(self):\n",
        "    self.ratio = self.matches/self.goals\n",
        "\n",
        "  def print_details(self):\n",
        "    print(f\"{self.get_name_team()}\")\n",
        "    print(f\"Team Role: {self.role}\")\n",
        "    print(f\"Total Goal: {self.matches}, Total Played: {self.goals}\")\n",
        "    print(f\"Goal Ratio: {self.ratio}\")\n",
        "    print(f\"Match Earning: {self.earning_per_match}K\")\n",
        "\n",
        "class Manager(Football):\n",
        "  def __init__(self,team_name, name, role,wins):\n",
        "    super().__init__(team_name, name, role)\n",
        "    self.wins = wins\n",
        "    self.earning_per_match += (wins*1000)\n",
        "  \n",
        "  def print_details(self):\n",
        "    print(f\"{self.get_name_team()}\")\n",
        "    print(f\"Team Role: {self.role}\")\n",
        "    print(f\"Total Win: {self.wins}\")\n",
        "    print(f\"Match Earning: {self.earning_per_match}K\")\n",
        "\n",
        "#write your code here\n",
        "player_one = Player('Juventus', 'Ronaldo', 'Striker', 25, 32)\n",
        "player_one.calculate_ratio()\n",
        "player_one.print_details()\n",
        "print('------------------------------------------')\n",
        "manager_one = Manager('Real Madrid', 'Zidane', 'Manager', 25)\n",
        "manager_one.print_details()\n",
        "\n",
        "# OUTPUT:\n",
        "# Name: Ronaldo, Team Name: Juventus\n",
        "# Team Role: Striker\n",
        "# Total Goal: 25, Total Played: 32\n",
        "# Goal Ratio: 0.78125\n",
        "# Match Earning: 25320K\n",
        "# ----------------------------------\n",
        "# Name: Zidane, Team Name: Real Madrid\n",
        "# Team Role: Manager\n",
        "# Total Win: 25\n",
        "# Match Earning: 25000K"
      ],
      "metadata": {
        "id": "J5ah9mjcluiI",
        "colab": {
          "base_uri": "https://localhost:8080/"
        },
        "outputId": "70243b64-6db3-49c2-e85e-42c536175d09"
      },
      "execution_count": 60,
      "outputs": [
        {
          "output_type": "stream",
          "name": "stdout",
          "text": [
            "Name: Ronaldo, Team Name: Juventus\n",
            "Team Role: Striker\n",
            "Total Goal: 25, Total Played: 32\n",
            "Goal Ratio: 0.78125\n",
            "Match Earning: 32250K\n",
            "------------------------------------------\n",
            "Name: Zidane, Team Name: Real Madrid\n",
            "Team Role: Manager\n",
            "Total Win: 25\n",
            "Match Earning: 25000K\n"
          ]
        }
      ]
    }
  ]
}